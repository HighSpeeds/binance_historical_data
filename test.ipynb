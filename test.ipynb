{
 "cells": [
  {
   "cell_type": "code",
   "execution_count": 1,
   "metadata": {},
   "outputs": [
    {
     "ename": "NameError",
     "evalue": "name 'binance_historical_data_self_version' is not defined",
     "output_type": "error",
     "traceback": [
      "\u001b[0;31m---------------------------------------------------------------------------\u001b[0m",
      "\u001b[0;31mNameError\u001b[0m                                 Traceback (most recent call last)",
      "Cell \u001b[0;32mIn[1], line 10\u001b[0m\n\u001b[1;32m      2\u001b[0m \u001b[38;5;28;01mimport\u001b[39;00m \u001b[38;5;21;01mdatetime\u001b[39;00m \n\u001b[1;32m      3\u001b[0m \u001b[38;5;66;03m# import argparse\u001b[39;00m\n\u001b[1;32m      4\u001b[0m \n\u001b[1;32m      5\u001b[0m \u001b[38;5;66;03m# parser = argparse.ArgumentParser()\u001b[39;00m\n\u001b[1;32m      6\u001b[0m \u001b[38;5;66;03m# parser.add_argument(\"--asset_class\", type=str, default=\"um\")\u001b[39;00m\n\u001b[1;32m      7\u001b[0m \n\u001b[1;32m      8\u001b[0m \u001b[38;5;66;03m# asset_class = parser.parse_args().asset_class\u001b[39;00m\n\u001b[0;32m---> 10\u001b[0m data_dumper \u001b[38;5;241m=\u001b[39m binance_historical_data_self_version\u001b[38;5;241m.\u001b[39mdata_dumper\u001b[38;5;241m.\u001b[39mBinanceDataDumper(\n\u001b[1;32m     11\u001b[0m     path_dir_where_to_dump\u001b[38;5;241m=\u001b[39m\u001b[38;5;124m\"\u001b[39m\u001b[38;5;124m.\u001b[39m\u001b[38;5;124m\"\u001b[39m,\n\u001b[1;32m     12\u001b[0m     asset_class\u001b[38;5;241m=\u001b[39m\u001b[38;5;124m\"\u001b[39m\u001b[38;5;124mcm\u001b[39m\u001b[38;5;124m\"\u001b[39m,  \u001b[38;5;66;03m# spot, um, cm\u001b[39;00m\n\u001b[1;32m     13\u001b[0m     data_type\u001b[38;5;241m=\u001b[39m\u001b[38;5;124m\"\u001b[39m\u001b[38;5;124mklines\u001b[39m\u001b[38;5;124m\"\u001b[39m,  \u001b[38;5;66;03m# aggTrades, klines, trades\u001b[39;00m\n\u001b[1;32m     14\u001b[0m     data_frequency\u001b[38;5;241m=\u001b[39m\u001b[38;5;124m\"\u001b[39m\u001b[38;5;124m1m\u001b[39m\u001b[38;5;124m\"\u001b[39m,\n\u001b[1;32m     15\u001b[0m )\n\u001b[1;32m     17\u001b[0m \u001b[38;5;66;03m#download data\u001b[39;00m\n\u001b[1;32m     18\u001b[0m data_dumper\u001b[38;5;241m.\u001b[39mdump_data(\n\u001b[1;32m     19\u001b[0m     tickers\u001b[38;5;241m=\u001b[39m[\u001b[38;5;124m\"\u001b[39m\u001b[38;5;124mADAUSD_PERP\u001b[39m\u001b[38;5;124m\"\u001b[39m,\u001b[38;5;124m\"\u001b[39m\u001b[38;5;124mBTCUSD_PERP\u001b[39m\u001b[38;5;124m\"\u001b[39m,\u001b[38;5;124m\"\u001b[39m\u001b[38;5;124mETHUSD_PERP\u001b[39m\u001b[38;5;124m\"\u001b[39m],\n\u001b[1;32m     20\u001b[0m     date_start\u001b[38;5;241m=\u001b[39mdatetime\u001b[38;5;241m.\u001b[39mdate(\u001b[38;5;241m2024\u001b[39m, \u001b[38;5;241m1\u001b[39m, \u001b[38;5;241m1\u001b[39m),\n\u001b[0;32m   (...)\u001b[0m\n\u001b[1;32m     23\u001b[0m     tickers_to_exclude\u001b[38;5;241m=\u001b[39m[\u001b[38;5;124m\"\u001b[39m\u001b[38;5;124mUST\u001b[39m\u001b[38;5;124m\"\u001b[39m],\n\u001b[1;32m     24\u001b[0m )\n",
      "\u001b[0;31mNameError\u001b[0m: name 'binance_historical_data_self_version' is not defined"
     ]
    }
   ],
   "source": [
    "import binance_historical_data_test\n",
    "import datetime \n",
    "# import argparse\n",
    "\n",
    "# parser = argparse.ArgumentParser()\n",
    "# parser.add_argument(\"--asset_class\", type=str, default=\"um\")\n",
    "\n",
    "# asset_class = parser.parse_args().asset_class\n",
    "\n",
    "data_dumper = binance_historical_data_test.data_dumper.BinanceDataDumper(\n",
    "    path_dir_where_to_dump=\".\",\n",
    "    asset_class=\"cm\",  # spot, um, cm\n",
    "    data_type=\"klines\",  # aggTrades, klines, trades\n",
    "    data_frequency=\"1m\",\n",
    ")\n",
    "\n",
    "#download data\n",
    "data_dumper.dump_data(\n",
    "    tickers=[\"ADAUSD_PERP\",\"BTCUSD_PERP\",\"ETHUSD_PERP\"],\n",
    "    date_start=datetime.date(2024, 1, 1),\n",
    "    date_end=datetime.date(2024, 6,1),\n",
    "    is_to_update_existing=False,\n",
    "    tickers_to_exclude=[\"UST\"],\n",
    ")\n",
    "\n"
   ]
  },
  {
   "cell_type": "code",
   "execution_count": 3,
   "metadata": {},
   "outputs": [
    {
     "name": "stderr",
     "output_type": "stream",
     "text": [
      "xdg-settings: $BROWSER is set and can't be changed with xdg-settings\n",
      "xdg-settings: $BROWSER is set and can't be changed with xdg-settings\n"
     ]
    },
    {
     "name": "stdout",
     "output_type": "stream",
     "text": [
      "/home/lliu/.wdm/drivers/geckodriver/linux64/v0.34.0/geckodriver\n"
     ]
    }
   ],
   "source": [
    "print(GeckoDriverManager().install())"
   ]
  },
  {
   "cell_type": "code",
   "execution_count": 27,
   "metadata": {},
   "outputs": [
    {
     "name": "stdout",
     "output_type": "stream",
     "text": [
      "\n",
      "\n",
      "\n",
      "Binance Data Collection\n",
      "\n",
      "\n",
      "\n",
      "\n",
      "\n",
      "\n",
      "\n",
      "\n",
      "Market Data\n",
      "\n",
      "\n",
      "\n",
      "\n",
      "\n",
      "\n",
      "\n",
      "\n",
      "\n",
      "\n",
      "\n",
      "\n",
      "\n",
      "\n",
      "\n",
      "\n",
      "Item\n",
      "Size\n",
      "Last Modified\n",
      "\n",
      "\n",
      "\n",
      "\n",
      "\n",
      "\n",
      "\n",
      "\n",
      "\n",
      "\n",
      "\n",
      "\n",
      "\n"
     ]
    }
   ],
   "source": [
    "with urlopen(f\"https://data.binance.vision/?prefix=data/futures/um/monthly/klines/\") as response:\n",
    "    time.sleep(10)\n",
    "    bs = BeautifulSoup(response.read(), 'html.parser')\n",
    "    # print(bs)\n",
    "    table = bs.find(lambda tag: tag.name=='table') \n",
    "    print(table)\n",
    "    table = table.find(lambda tag: tag.name=='tbody')\n",
    "    print(table)\n",
    "    rows = table.findAll(lambda tag: tag.name=='tr')\n",
    "    print(rows)"
   ]
  },
  {
   "cell_type": "code",
   "execution_count": 28,
   "metadata": {},
   "outputs": [
    {
     "name": "stdout",
     "output_type": "stream",
     "text": [
      "<!DOCTYPE html>\n",
      "<html>\n",
      "<head>\n",
      "  <title>Binance Data Collection</title>\n",
      "  <link href=\"bootstrap.min.css\" rel=\"stylesheet\">\n",
      "</head>\n",
      "<body>\n",
      "  <nav class=\"navbar navbar-dark bg-dark\">\n",
      "    <div class=\"container-md\">\n",
      "      <div class=\"row justify-content-between\" style=\"width: 100%\">\n",
      "        <div class=\"col-sm\">\n",
      "          <a href=\"/\"><img src=\"logo.png\" height=\"30\" class=\"d-inline-block align-top\" alt=\"\"></a>\n",
      "          <span class=\"navbar-brand\" style=\"padding-left: 10px;\">Market Data</span>\n",
      "        </div>\n",
      "        <div class=\"col-sm\" style=\"text-align: right\" >\n",
      "          <a href=\"https://github.com/binance/binance-public-data/\" data-toggle=\"tooltip\" title data-original-title=\"Public data document\">\n",
      "            <svg class=\"octicon octicon-mark-github v-align-middle\" height=\"25\" viewBox=\"0 0 16 16\" version=\"1.1\" width=\"25\" aria-hidden=\"true\" style=\"fill: #fff\">\n",
      "              <path fill-rule=\"evenodd\" d=\"M8 0C3.58 0 0 3.58 0 8c0 3.54 2.29 6.53 5.47 7.59.4.07.55-.17.55-.38 0-.19-.01-.82-.01-1.49-2.01.37-2.53-.49-2.69-.94-.09-.23-.48-.94-.82-1.13-.28-.15-.68-.52-.01-.53.63-.01 1.08.58 1.23.82.72 1.21 1.87.87 2.33.66.07-.52.28-.87.51-1.07-1.78-.2-3.64-.89-3.64-3.95 0-.87.31-1.59.82-2.15-.08-.2-.36-1.02.08-2.12 0 0 .67-.21 2.2.82.64-.18 1.32-.27 2-.27.68 0 1.36.09 2 .27 1.53-1.04 2.2-.82 2.2-.82.44 1.1.16 1.92.08 2.12.51.56.82 1.27.82 2.15 0 3.07-1.87 3.75-3.65 3.95.29.25.54.73.54 1.48 0 1.07-.01 1.93-.01 2.2 0 .21.15.46.55.38A8.013 8.013 0 0016 8c0-4.42-3.58-8-8-8z\"></path>\n",
      "            </svg>\n",
      "          </a>\n",
      "        </div>\n",
      "      </div>\n",
      "    </div>\n",
      "  </nav>\n",
      "  <div class=\"container-md\">\n",
      "    <div id=\"navigation\" class=\"h6\" style=\"margin-top: .8rem\"></div>\n",
      "\n",
      "    <table class=\"table table-hover\">\n",
      "      <thead>\n",
      "        <tr>\n",
      "          <th scope=\"col\">Item</th>\n",
      "          <th scope=\"col\">Size</th>\n",
      "          <th scope=\"col\">Last Modified</th>\n",
      "        </tr>\n",
      "      </thead>\n",
      "      <tbody id=\"listing\"></tbody>\n",
      "    </table>\n",
      "  </div>\n",
      "  <script type=\"text/javascript\" src=\"jquery.min.js\"></script>\n",
      "  <script type=\"text/javascript\" src=\"bootstrap.bundle.min.js\"></script>\n",
      "  <script type=\"text/javascript\">\n",
      "    var S3BL_IGNORE_PATH = true;\n",
      "    var BUCKET_URL = 'https://s3-ap-northeast-1.amazonaws.com/data.binance.vision';\n",
      "    var BUCKET_WEBSITE_URL = 'https://data.binance.vision'\n",
      "    var S3B_SORT = 'A2Z';\n",
      "    var EXCLUDE_FILE = 'index.html'; \n",
      "    var S3B_ROOT_DIR = 'data/';\n",
      "    $(function () {\n",
      "      $('[data-toggle=\"tooltip\"]').tooltip()\n",
      "    })\n",
      "  </script>\n",
      "  <script type=\"text/javascript\" src=\"xss.js\"></script>\n",
      "  <script type=\"text/javascript\" src=\"list.js\"></script>\n",
      "</body>\n",
      "</html>\n",
      "\n"
     ]
    }
   ],
   "source": [
    "import requests\n",
    "response = requests.get(\"https://data.binance.vision/?prefix=data/futures/um/monthly/klines/\")\n",
    "time.sleep(10)\n",
    "print(response.text)\n"
   ]
  },
  {
   "cell_type": "code",
   "execution_count": null,
   "metadata": {},
   "outputs": [],
   "source": []
  }
 ],
 "metadata": {
  "kernelspec": {
   "display_name": "base",
   "language": "python",
   "name": "python3"
  },
  "language_info": {
   "codemirror_mode": {
    "name": "ipython",
    "version": 3
   },
   "file_extension": ".py",
   "mimetype": "text/x-python",
   "name": "python",
   "nbconvert_exporter": "python",
   "pygments_lexer": "ipython3",
   "version": "3.11.5"
  }
 },
 "nbformat": 4,
 "nbformat_minor": 2
}
